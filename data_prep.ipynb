{
 "cells": [
  {
   "cell_type": "code",
   "execution_count": 4,
   "metadata": {},
   "outputs": [],
   "source": [
    "#Filter games.csv columns\n",
    "import pandas as pd\n",
    "\n",
    "chunk_size = 9431\n",
    "columns_to_keep = ['GAME_DATE_EST', 'GAME_ID', 'HOME_TEAM_ID', 'VISITOR_TEAM_ID', 'SEASON', 'PTS_home', 'FG_PCT_home', 'FG3_PCT_home', 'PTS_away', 'FG_PCT_away', 'FG3_PCT_away', 'HOME_TEAM_WINS']\n",
    "output_file = 'games_filtered.csv'\n",
    "\n",
    "games = pd.read_csv('games.csv', chunksize=chunk_size)\n",
    "\n",
    "chunk = next(games)\n",
    "chunk_filtered = chunk[columns_to_keep]\n",
    "chunk_filtered.to_csv(output_file, mode='a')"
   ]
  },
  {
   "cell_type": "code",
   "execution_count": 5,
   "metadata": {},
   "outputs": [
    {
     "name": "stderr",
     "output_type": "stream",
     "text": [
      "C:\\Users\\saraf\\AppData\\Local\\Temp\\ipykernel_26108\\776603589.py:10: DtypeWarning: Columns (6) have mixed types. Specify dtype option on import or set low_memory=False.\n",
      "  chunk = next(games)\n"
     ]
    }
   ],
   "source": [
    "#Filter game_details.csv\n",
    "import pandas as pd\n",
    "\n",
    "chunk_size = 369403\n",
    "columns_to_keep = ['GAME_ID', 'TEAM_ID', 'FGM', 'FGA', 'FG3M', 'FG3A', 'FTM', 'FTA', 'DREB', 'OREB', 'TO']\n",
    "output_file = 'games_details_filtered.csv'\n",
    "\n",
    "games = pd.read_csv('games_details.csv', chunksize=chunk_size)\n",
    "\n",
    "chunk = next(games)\n",
    "chunk_filtered = chunk[columns_to_keep]\n",
    "chunk_filtered.to_csv(output_file, mode='a')"
   ]
  }
 ],
 "metadata": {
  "kernelspec": {
   "display_name": "Python 3",
   "language": "python",
   "name": "python3"
  },
  "language_info": {
   "codemirror_mode": {
    "name": "ipython",
    "version": 3
   },
   "file_extension": ".py",
   "mimetype": "text/x-python",
   "name": "python",
   "nbconvert_exporter": "python",
   "pygments_lexer": "ipython3",
   "version": "3.9.13"
  }
 },
 "nbformat": 4,
 "nbformat_minor": 2
}
