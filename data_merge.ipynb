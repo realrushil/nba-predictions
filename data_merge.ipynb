{
 "cells": [
  {
   "cell_type": "code",
   "execution_count": 1,
   "metadata": {},
   "outputs": [
    {
     "name": "stderr",
     "output_type": "stream",
     "text": [
      "C:\\Users\\saraf\\AppData\\Local\\Temp\\ipykernel_26092\\167922959.py:4: DtypeWarning: Columns (6) have mixed types. Specify dtype option on import or set low_memory=False.\n",
      "  games_details = pd.read_csv('games_details.csv')\n"
     ]
    }
   ],
   "source": [
    "from team_game import TeamGame\n",
    "import pandas as pd\n",
    "\n",
    "games_details = pd.read_csv('games_details.csv')\n",
    "games_grouped = games_details.groupby(['GAME_ID', 'TEAM_ID'])\n",
    "\n",
    "game_to_stats = {}\n",
    "for group_key, group_df in games_grouped:\n",
    "    tg = TeamGame(group_df.iloc[0]['GAME_ID'], group_df.iloc[0]['TEAM_ID'])\n",
    "    \n",
    "    tg.fgm = group_df['FGM'].sum()\n",
    "    tg.fga = group_df['FGA'].sum()\n",
    "    tg.fg3m = group_df['FG3M'].sum()\n",
    "    tg.ftm = group_df['FTM'].sum()\n",
    "    tg.fta = group_df['FTA'].sum()\n",
    "    tg.dreb = group_df['DREB'].sum()\n",
    "    tg.oreb = group_df['OREB'].sum()\n",
    "    tg.tov = group_df['TO'].sum()\n",
    "\n",
    "    if tg.game_id in game_to_stats:\n",
    "        game_to_stats[tg.game_id].append(tg)\n",
    "    else:\n",
    "        game_to_stats[tg.game_id] = [tg]"
   ]
  },
  {
   "cell_type": "code",
   "execution_count": 2,
   "metadata": {},
   "outputs": [
    {
     "name": "stdout",
     "output_type": "stream",
     "text": [
      "CSV file written successfully!\n"
     ]
    }
   ],
   "source": [
    "import csv\n",
    "from team_game import TeamGame\n",
    "\n",
    "header = ['GAME_ID', 'DATE', 'SEASON', 'TEAM_ID', 'EFG', 'FTR', 'OREB_PCT', 'TOV_PCT', 'OFF_RTG', 'DEF_RTG', 'HOME', 'MOV']\n",
    "\n",
    "games = pd.read_csv('games.csv')\n",
    "with open('merged_games.csv', mode='w', newline='') as file:\n",
    "    writer = csv.writer(file)\n",
    "    writer.writerow(header)\n",
    "\n",
    "    for index, row in games.iterrows():\n",
    "        if not(row['PTS_home'] > 0):\n",
    "            continue\n",
    "        g = game_to_stats[row['GAME_ID']]\n",
    "        if len(g) != 2:\n",
    "            continue\n",
    "        t1, t2 = g[0], g[1]\n",
    "\n",
    "        if t1.team_id == row['HOME_TEAM_ID']:\n",
    "            writer.writerow([row['GAME_ID'], row['GAME_DATE_EST'], row['SEASON'], t1.team_id, t1.efg(), t1.ftr(), t1.oreb / (t1.oreb + t2.dreb), t1.tov_pct(), row['PTS_home'] / t1.poss(), row['PTS_away'] / t2.poss(), 1, row['PTS_home'] - row['PTS_away']])\n",
    "            writer.writerow([row['GAME_ID'], row['GAME_DATE_EST'], row['SEASON'], t2.team_id, t2.efg(), t2.ftr(), t2.oreb / (t2.oreb + t1.dreb), t2.tov_pct(), row['PTS_away'] / t2.poss(), row['PTS_home'] / t1.poss(), 0, row['PTS_away'] - row['PTS_home']])\n",
    "        else:\n",
    "            writer.writerow([row['GAME_ID'], row['GAME_DATE_EST'], row['SEASON'], t2.team_id, t2.efg(), t2.ftr(), t2.oreb / (t2.oreb + t1.dreb), t2.tov_pct(), row['PTS_home'] / t2.poss(), row['PTS_away'] / t1.poss(), 0, row['PTS_home'] - row['PTS_away']])\n",
    "            writer.writerow([row['GAME_ID'], row['GAME_DATE_EST'], row['SEASON'], t1.team_id, t1.efg(), t1.ftr(), t1.oreb / (t1.oreb + t2.dreb), t1.tov_pct(), row['PTS_away'] / t1.poss(), row['PTS_home'] / t2.poss(), 1, row['PTS_away'] - row['PTS_home']])\n",
    "\n",
    "print(\"CSV file written successfully!\")"
   ]
  }
 ],
 "metadata": {
  "kernelspec": {
   "display_name": "Python 3",
   "language": "python",
   "name": "python3"
  },
  "language_info": {
   "codemirror_mode": {
    "name": "ipython",
    "version": 3
   },
   "file_extension": ".py",
   "mimetype": "text/x-python",
   "name": "python",
   "nbconvert_exporter": "python",
   "pygments_lexer": "ipython3",
   "version": "3.9.13"
  }
 },
 "nbformat": 4,
 "nbformat_minor": 2
}
