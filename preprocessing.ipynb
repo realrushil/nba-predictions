{
 "cells": [
  {
   "cell_type": "code",
   "execution_count": 3,
   "metadata": {},
   "outputs": [
    {
     "name": "stdout",
     "output_type": "stream",
     "text": [
      "CSV files created for each team in the 'team_csvs' folder.\n"
     ]
    }
   ],
   "source": [
    "import os\n",
    "import pandas as pd\n",
    "from datetime import datetime\n",
    "\n",
    "output_folder = 'team_csvs'\n",
    "df = pd.read_csv('merged_games.csv')\n",
    "\n",
    "df['DATE'] = pd.to_datetime(df['DATE'], errors='coerce')  # This handles mixed or inconsistent formats\n",
    "exclude_months = [4, 5, 6, 7, 8, 9, 10]\n",
    "df_filtered = df[~df['DATE'].dt.month.isin(exclude_months)]\n",
    "df_filtered = df_filtered[(df_filtered['SEASON'] >= 2010) & (df_filtered['SEASON'] <= 2021)]\n",
    "\n",
    "for team_id in df_filtered['TEAM_ID'].unique():\n",
    "    team_df = df_filtered[df_filtered['TEAM_ID'] == team_id]    \n",
    "    team_df_sorted = team_df.sort_values(by='DATE', ascending=False)\n",
    "    team_df_sorted.to_csv(os.path.join(output_folder, f'{team_id}.csv'), index=False)\n",
    "\n",
    "print(\"Success\")\n"
   ]
  }
 ],
 "metadata": {
  "kernelspec": {
   "display_name": "Python 3",
   "language": "python",
   "name": "python3"
  },
  "language_info": {
   "codemirror_mode": {
    "name": "ipython",
    "version": 3
   },
   "file_extension": ".py",
   "mimetype": "text/x-python",
   "name": "python",
   "nbconvert_exporter": "python",
   "pygments_lexer": "ipython3",
   "version": "3.9.13"
  }
 },
 "nbformat": 4,
 "nbformat_minor": 2
}
